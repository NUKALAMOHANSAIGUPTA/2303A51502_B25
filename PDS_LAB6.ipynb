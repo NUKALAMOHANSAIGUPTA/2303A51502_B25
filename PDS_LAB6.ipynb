{
  "nbformat": 4,
  "nbformat_minor": 0,
  "metadata": {
    "colab": {
      "provenance": [],
      "authorship_tag": "ABX9TyNlr8NIunHlZEAOgAl6oQMX",
      "include_colab_link": true
    },
    "kernelspec": {
      "name": "python3",
      "display_name": "Python 3"
    },
    "language_info": {
      "name": "python"
    }
  },
  "cells": [
    {
      "cell_type": "markdown",
      "metadata": {
        "id": "view-in-github",
        "colab_type": "text"
      },
      "source": [
        "<a href=\"https://colab.research.google.com/github/NUKALAMOHANSAIGUPTA/2303A51502_B25/blob/main/PDS_LAB6.ipynb\" target=\"_parent\"><img src=\"https://colab.research.google.com/assets/colab-badge.svg\" alt=\"Open In Colab\"/></a>"
      ]
    },
    {
      "cell_type": "code",
      "execution_count": 1,
      "metadata": {
        "colab": {
          "base_uri": "https://localhost:8080/"
        },
        "id": "MAchyvaSTIsP",
        "outputId": "1b6960cc-466b-46c2-8a75-99733b8b4d98"
      },
      "outputs": [
        {
          "output_type": "stream",
          "name": "stdout",
          "text": [
            "Original Hospital Dataset:\n",
            "    Patient_ID  Age\n",
            "0            1   25\n",
            "1            2   34\n",
            "2            3   67\n",
            "3            4   89\n",
            "4            5  102\n",
            "5            6   -5\n",
            "6            7   45\n",
            "7            8   56\n",
            "8            9  130\n",
            "9           10   40\n",
            "10          11   29\n",
            "11          12   75\n",
            "12          13  121\n",
            "13          14   60\n",
            "14          15   15\n",
            "\n",
            "Detected Outliers:\n",
            "    Patient_ID  Age\n",
            "5            6   -5\n",
            "8            9  130\n",
            "12          13  121\n",
            "\n",
            "Cleaned Hospital Dataset (Outliers Removed):\n",
            "    Patient_ID  Age\n",
            "0            1   25\n",
            "1            2   34\n",
            "2            3   67\n",
            "3            4   89\n",
            "4            5  102\n",
            "6            7   45\n",
            "7            8   56\n",
            "9           10   40\n",
            "10          11   29\n",
            "11          12   75\n",
            "13          14   60\n",
            "14          15   15\n"
          ]
        }
      ],
      "source": [
        "import pandas as pd\n",
        "\n",
        "hospital_df = pd.read_csv(\"/content/hospital_dataset.csv\")\n",
        "\n",
        "print(\"Original Hospital Dataset:\")\n",
        "print(hospital_df)\n",
        "\n",
        "outliers = hospital_df[(hospital_df[\"Age\"] < 0) | (hospital_df[\"Age\"] > 120)]\n",
        "print(\"\\nDetected Outliers:\")\n",
        "print(outliers)\n",
        "\n",
        "cleaned_hospital_df = hospital_df[(hospital_df[\"Age\"] >= 0) & (hospital_df[\"Age\"] <= 120)]\n",
        "\n",
        "print(\"\\nCleaned Hospital Dataset (Outliers Removed):\")\n",
        "print(cleaned_hospital_df)\n",
        "\n",
        "cleaned_hospital_df.to_csv(\"hospital_dataset_cleaned.csv\", index=False)\n"
      ]
    },
    {
      "cell_type": "code",
      "source": [
        "import pandas as pd\n",
        "from sklearn.preprocessing import MinMaxScaler, StandardScaler\n",
        "\n",
        "bank_df = pd.read_csv(\"/content/banking_dataset.csv\")\n",
        "\n",
        "print(\"\\nOriginal Banking Dataset:\")\n",
        "print(bank_df)\n",
        "\n",
        "scaler_minmax = MinMaxScaler()\n",
        "bank_df[\"Income_MinMax\"] = scaler_minmax.fit_transform(bank_df[[\"Income\"]])\n",
        "\n",
        "scaler_standard = StandardScaler()\n",
        "bank_df[\"Income_Standardized\"] = scaler_standard.fit_transform(bank_df[[\"Income\"]])\n",
        "\n",
        "print(\"\\nBanking Dataset After Scaling:\")\n",
        "print(bank_df)\n",
        "\n",
        "bank_df.to_csv(\"banking_dataset_scaled.csv\", index=False)\n"
      ],
      "metadata": {
        "colab": {
          "base_uri": "https://localhost:8080/"
        },
        "id": "OKLrpHUVTU8V",
        "outputId": "c18b31a8-fc68-444e-e304-f3dfde296b73"
      },
      "execution_count": 2,
      "outputs": [
        {
          "output_type": "stream",
          "name": "stdout",
          "text": [
            "\n",
            "Original Banking Dataset:\n",
            "   Customer_ID  Income\n",
            "0            1   25000\n",
            "1            2   30000\n",
            "2            3   45000\n",
            "3            4   60000\n",
            "4            5   80000\n",
            "5            6  120000\n",
            "6            7  150000\n",
            "7            8  200000\n",
            "8            9  220000\n",
            "9           10  300000\n",
            "\n",
            "Banking Dataset After Scaling:\n",
            "   Customer_ID  Income  Income_MinMax  Income_Standardized\n",
            "0            1   25000       0.000000            -1.112775\n",
            "1            2   30000       0.018182            -1.056000\n",
            "2            3   45000       0.072727            -0.885678\n",
            "3            4   60000       0.127273            -0.715355\n",
            "4            5   80000       0.200000            -0.488258\n",
            "5            6  120000       0.345455            -0.034065\n",
            "6            7  150000       0.454545             0.306581\n",
            "7            8  200000       0.636364             0.874323\n",
            "8            9  220000       0.709091             1.101420\n",
            "9           10  300000       1.000000             2.009807\n"
          ]
        }
      ]
    }
  ]
}